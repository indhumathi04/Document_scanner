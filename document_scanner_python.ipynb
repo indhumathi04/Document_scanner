{
 "cells": [
  {
   "cell_type": "code",
   "execution_count": 16,
   "id": "addressed-vehicle",
   "metadata": {},
   "outputs": [
    {
     "data": {
      "text/plain": [
       "False"
      ]
     },
     "execution_count": 16,
     "metadata": {},
     "output_type": "execute_result"
    }
   ],
   "source": [
    "import cv2\n",
    "import numpy as np\n",
    "img_width=580\n",
    "img_height=640\n",
    "cam=cv2.VideoCapture(r'D:\\Image Processing with OpenCV (1)\\Image Processing with OpenCV\\OpenCV\\Resources\\OCR.mp4')\n",
    "cam.set(3,640)\n",
    "cam.set(4,480)"
   ]
  },
  {
   "cell_type": "code",
   "execution_count": 17,
   "id": "through-windows",
   "metadata": {},
   "outputs": [],
   "source": [
    "def Preprocessing(img):\n",
    "    imgGray = cv2.cvtColor(img,cv2.COLOR_BGR2GRAY)\n",
    "    imgBlur = cv2.GaussianBlur(imgGray,(5,5),1)\n",
    "    imgCanny = cv2.Canny(imgBlur,90,90)\n",
    "    kernel = np.ones((5,5))\n",
    "    imgDial = cv2.dilate(imgCanny,kernel,iterations=2)\n",
    "    imgThres = cv2.erode(imgDial,kernel,iterations=1)\n",
    "    return imgThres"
   ]
  },
  {
   "cell_type": "code",
   "execution_count": 18,
   "id": "referenced-delight",
   "metadata": {},
   "outputs": [],
   "source": [
    "def getContours(img):\n",
    "    biggest = np.array([])\n",
    "    maxArea = 0\n",
    "    contours,hierarchy = cv2.findContours(img,cv2.RETR_EXTERNAL,cv2.CHAIN_APPROX_NONE)[-2:] # define image, retrieval method:external:extreme outer contours, approx : none, all countours\n",
    "    for cnt in contours:\n",
    "        area = cv2.contourArea(cnt)\n",
    "        if area>5000:\n",
    "            #cv2.drawContours(imgContour, cnt, -1, (255, 0, 0), 3)\n",
    "            peri = cv2.arcLength(cnt,True)\n",
    "            approx = cv2.approxPolyDP(cnt,0.02*peri,True)\n",
    "            if area >maxArea and len(approx) == 4:\n",
    "                biggest = approx\n",
    "                maxArea = area\n",
    "    cv2.drawContours(imgContour, biggest, -1, (255, 0, 0), 20)\n",
    "    return biggest"
   ]
  },
  {
   "cell_type": "code",
   "execution_count": 19,
   "id": "peripheral-receiver",
   "metadata": {},
   "outputs": [],
   "source": [
    "def reorder (myPoints):\n",
    "    myPoints = myPoints.reshape((4,2))\n",
    "    myPointsNew = np.zeros((4,1,2),np.int32)\n",
    "    add = myPoints.sum(1)\n",
    "    #print(\"add\", add)\n",
    "    myPointsNew[0] = myPoints[np.argmin(add)] # smallest corner\n",
    "    myPointsNew[3] = myPoints[np.argmax(add)] # biggest corner\n",
    "    diff = np.diff(myPoints,axis=1)\n",
    "    myPointsNew[1]= myPoints[np.argmin(diff)]\n",
    "    myPointsNew[2] = myPoints[np.argmax(diff)]\n",
    "    #print(\"NewPoints\",myPointsNew)\n",
    "    return myPointsNew\n",
    "def getWarp(img,biggest):\n",
    "    biggest = reorder(biggest)\n",
    "    pts1 = np.float32(biggest)\n",
    "    pts2 = np.float32([[0, 0], [img_width, 0], [0, img_height], [img_width,img_height]])\n",
    "    matrix = cv2.getPerspectiveTransform(pts1, pts2)\n",
    "    imgOutput = cv2.warpPerspective(img, matrix, (img_width, img_height))\n",
    "    imgCropped = imgOutput[20:imgOutput.shape[0]-20,20:imgOutput.shape[1]-20]\n",
    "    imgCropped = cv2.resize(imgCropped,(img_width,img_height))\n",
    "    return imgCropped\n"
   ]
  },
  {
   "cell_type": "code",
   "execution_count": 20,
   "id": "searching-fossil",
   "metadata": {},
   "outputs": [],
   "source": [
    "while True:\n",
    "    success, img = cam.read()\n",
    "    img = cv2.resize(img,(img_width,img_height))\n",
    "    imgContour = img.copy()\n",
    "    imgThres = Preprocessing(img)\n",
    "    biggest = getContours(imgThres)\n",
    "    if biggest.size !=0:\n",
    "        imgWarped=getWarp(img,biggest)\n",
    "        cv2.imshow(\"ImageWarped\", imgWarped)\n",
    "\n",
    "    cv2.imshow(\"ImageThreshold\",imgThres)\n",
    "    cv2.imshow(\"ImageContour\", imgContour)\n",
    "\n",
    "    if cv2.waitKey(4000) & 0xFF == ord('q'):\n",
    "        break\n",
    "cam.release()\n",
    "cv2.destroyAllWindows()\n"
   ]
  },
  {
   "cell_type": "code",
   "execution_count": null,
   "id": "prescription-bangladesh",
   "metadata": {},
   "outputs": [],
   "source": []
  }
 ],
 "metadata": {
  "kernelspec": {
   "display_name": "py36",
   "language": "python",
   "name": "py36"
  },
  "language_info": {
   "codemirror_mode": {
    "name": "ipython",
    "version": 3
   },
   "file_extension": ".py",
   "mimetype": "text/x-python",
   "name": "python",
   "nbconvert_exporter": "python",
   "pygments_lexer": "ipython3",
   "version": "3.6.10"
  }
 },
 "nbformat": 4,
 "nbformat_minor": 5
}
